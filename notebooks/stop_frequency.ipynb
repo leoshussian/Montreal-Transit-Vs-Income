{
 "cells": [
  {
   "metadata": {},
   "cell_type": "markdown",
   "source": [
    "# Frequency\n",
    "\n",
    "How frequently does a bus or train pass here?"
   ],
   "id": "bde080f7eb423c24"
  },
  {
   "cell_type": "code",
   "id": "initial_id",
   "metadata": {
    "collapsed": true,
    "ExecuteTime": {
     "end_time": "2025-02-06T22:33:55.837061Z",
     "start_time": "2025-02-06T22:33:55.744452Z"
    }
   },
   "source": [
    "%load_ext autoreload\n",
    "%autoreload 2\n",
    "\n",
    "import pandas as pd\n",
    "from scripts.preprocessing import stop_data, gtfs\n",
    "from Transit_Quality_Study.transit_quality_study.config import processed_data_dir"
   ],
   "outputs": [
    {
     "name": "stdout",
     "output_type": "stream",
     "text": [
      "The autoreload extension is already loaded. To reload it, use:\n",
      "  %reload_ext autoreload\n"
     ]
    }
   ],
   "execution_count": 27
  },
  {
   "metadata": {},
   "cell_type": "markdown",
   "source": "GTFS_Functions already provides a stop_freq DataFrame:",
   "id": "6751aea8cde0e38e"
  },
  {
   "metadata": {
    "ExecuteTime": {
     "end_time": "2025-02-06T22:32:57.105060Z",
     "start_time": "2025-02-06T22:32:57.002766Z"
    }
   },
   "cell_type": "code",
   "source": "gtfs.stop_freq.head()",
   "id": "547dcab23ec84675",
   "outputs": [
    {
     "data": {
      "text/plain": [
       "       stop_id  direction_id      window  ntrips  min_per_trip  \\\n",
       "0            1             0  0:00-24:00    1857             0   \n",
       "1            1             1  0:00-24:00    1841             0   \n",
       "2           10             0  0:00-24:00    1841             0   \n",
       "3           10             1  0:00-24:00    1841             0   \n",
       "4           12             0  0:00-24:00    1841             0   \n",
       "...        ...           ...         ...     ...           ...   \n",
       "10286  9999114             1  0:00-24:00    1433             1   \n",
       "10287  9999492             0  0:00-24:00    1841             0   \n",
       "10288  9999492             1  0:00-24:00    1841             0   \n",
       "10289  9999495             0  0:00-24:00    1575             0   \n",
       "10290  9999495             1  0:00-24:00    1575             0   \n",
       "\n",
       "                    stop_name                    geometry  \n",
       "0      Station Henri-Bourassa  POINT (-73.66817 45.55528)  \n",
       "1      Station Henri-Bourassa  POINT (-73.66817 45.55528)  \n",
       "2          Station Sherbrooke  POINT (-73.56922 45.51906)  \n",
       "3          Station Sherbrooke  POINT (-73.56922 45.51906)  \n",
       "4       Station Champ-de-Mars   POINT (-73.5566 45.51005)  \n",
       "...                       ...                         ...  \n",
       "10286      Station Berri-UQAM  POINT (-73.56101 45.51519)  \n",
       "10287         Station Snowdon  POINT (-73.62773 45.48543)  \n",
       "10288         Station Snowdon  POINT (-73.62773 45.48543)  \n",
       "10289         Station Snowdon   POINT (-73.62776 45.4854)  \n",
       "10290         Station Snowdon   POINT (-73.62776 45.4854)  \n",
       "\n",
       "[10291 rows x 7 columns]"
      ],
      "text/html": [
       "<div>\n",
       "<style scoped>\n",
       "    .dataframe tbody tr th:only-of-type {\n",
       "        vertical-align: middle;\n",
       "    }\n",
       "\n",
       "    .dataframe tbody tr th {\n",
       "        vertical-align: top;\n",
       "    }\n",
       "\n",
       "    .dataframe thead th {\n",
       "        text-align: right;\n",
       "    }\n",
       "</style>\n",
       "<table border=\"1\" class=\"dataframe\">\n",
       "  <thead>\n",
       "    <tr style=\"text-align: right;\">\n",
       "      <th></th>\n",
       "      <th>stop_id</th>\n",
       "      <th>direction_id</th>\n",
       "      <th>window</th>\n",
       "      <th>ntrips</th>\n",
       "      <th>min_per_trip</th>\n",
       "      <th>stop_name</th>\n",
       "      <th>geometry</th>\n",
       "    </tr>\n",
       "  </thead>\n",
       "  <tbody>\n",
       "    <tr>\n",
       "      <th>0</th>\n",
       "      <td>1</td>\n",
       "      <td>0</td>\n",
       "      <td>0:00-24:00</td>\n",
       "      <td>1857</td>\n",
       "      <td>0</td>\n",
       "      <td>Station Henri-Bourassa</td>\n",
       "      <td>POINT (-73.66817 45.55528)</td>\n",
       "    </tr>\n",
       "    <tr>\n",
       "      <th>1</th>\n",
       "      <td>1</td>\n",
       "      <td>1</td>\n",
       "      <td>0:00-24:00</td>\n",
       "      <td>1841</td>\n",
       "      <td>0</td>\n",
       "      <td>Station Henri-Bourassa</td>\n",
       "      <td>POINT (-73.66817 45.55528)</td>\n",
       "    </tr>\n",
       "    <tr>\n",
       "      <th>2</th>\n",
       "      <td>10</td>\n",
       "      <td>0</td>\n",
       "      <td>0:00-24:00</td>\n",
       "      <td>1841</td>\n",
       "      <td>0</td>\n",
       "      <td>Station Sherbrooke</td>\n",
       "      <td>POINT (-73.56922 45.51906)</td>\n",
       "    </tr>\n",
       "    <tr>\n",
       "      <th>3</th>\n",
       "      <td>10</td>\n",
       "      <td>1</td>\n",
       "      <td>0:00-24:00</td>\n",
       "      <td>1841</td>\n",
       "      <td>0</td>\n",
       "      <td>Station Sherbrooke</td>\n",
       "      <td>POINT (-73.56922 45.51906)</td>\n",
       "    </tr>\n",
       "    <tr>\n",
       "      <th>4</th>\n",
       "      <td>12</td>\n",
       "      <td>0</td>\n",
       "      <td>0:00-24:00</td>\n",
       "      <td>1841</td>\n",
       "      <td>0</td>\n",
       "      <td>Station Champ-de-Mars</td>\n",
       "      <td>POINT (-73.5566 45.51005)</td>\n",
       "    </tr>\n",
       "    <tr>\n",
       "      <th>...</th>\n",
       "      <td>...</td>\n",
       "      <td>...</td>\n",
       "      <td>...</td>\n",
       "      <td>...</td>\n",
       "      <td>...</td>\n",
       "      <td>...</td>\n",
       "      <td>...</td>\n",
       "    </tr>\n",
       "    <tr>\n",
       "      <th>10286</th>\n",
       "      <td>9999114</td>\n",
       "      <td>1</td>\n",
       "      <td>0:00-24:00</td>\n",
       "      <td>1433</td>\n",
       "      <td>1</td>\n",
       "      <td>Station Berri-UQAM</td>\n",
       "      <td>POINT (-73.56101 45.51519)</td>\n",
       "    </tr>\n",
       "    <tr>\n",
       "      <th>10287</th>\n",
       "      <td>9999492</td>\n",
       "      <td>0</td>\n",
       "      <td>0:00-24:00</td>\n",
       "      <td>1841</td>\n",
       "      <td>0</td>\n",
       "      <td>Station Snowdon</td>\n",
       "      <td>POINT (-73.62773 45.48543)</td>\n",
       "    </tr>\n",
       "    <tr>\n",
       "      <th>10288</th>\n",
       "      <td>9999492</td>\n",
       "      <td>1</td>\n",
       "      <td>0:00-24:00</td>\n",
       "      <td>1841</td>\n",
       "      <td>0</td>\n",
       "      <td>Station Snowdon</td>\n",
       "      <td>POINT (-73.62773 45.48543)</td>\n",
       "    </tr>\n",
       "    <tr>\n",
       "      <th>10289</th>\n",
       "      <td>9999495</td>\n",
       "      <td>0</td>\n",
       "      <td>0:00-24:00</td>\n",
       "      <td>1575</td>\n",
       "      <td>0</td>\n",
       "      <td>Station Snowdon</td>\n",
       "      <td>POINT (-73.62776 45.4854)</td>\n",
       "    </tr>\n",
       "    <tr>\n",
       "      <th>10290</th>\n",
       "      <td>9999495</td>\n",
       "      <td>1</td>\n",
       "      <td>0:00-24:00</td>\n",
       "      <td>1575</td>\n",
       "      <td>0</td>\n",
       "      <td>Station Snowdon</td>\n",
       "      <td>POINT (-73.62776 45.4854)</td>\n",
       "    </tr>\n",
       "  </tbody>\n",
       "</table>\n",
       "<p>10291 rows × 7 columns</p>\n",
       "</div>"
      ]
     },
     "execution_count": 26,
     "metadata": {},
     "output_type": "execute_result"
    }
   ],
   "execution_count": 26
  },
  {
   "metadata": {},
   "cell_type": "markdown",
   "source": [
    "However, it does not use stop_codes, which are what we rely on to identify stations in the rest of the project.\n",
    "\n",
    "Therefore, we must provide stop_codes. This can easily be done by using geopandas spatial join."
   ],
   "id": "f86c09c8c8ccc0e6"
  },
  {
   "metadata": {
    "ExecuteTime": {
     "end_time": "2025-02-06T22:34:21.694283Z",
     "start_time": "2025-02-06T22:34:21.563908Z"
    }
   },
   "cell_type": "code",
   "source": [
    "stops = stop_data[['geometry']]\n",
    "stop_freq = (stops\n",
    "             .sjoin(gtfs.stop_freq)\n",
    "             .groupby(['stop_code'])\n",
    "             .sum('ntrips'))\n",
    "stop_freq = pd.DataFrame(stop_freq[['ntrips']])\n",
    "stop_freq.to_parquet(processed_data_dir / 'stop_frequency.parquet')\n",
    "stop_freq.head()"
   ],
   "id": "4ccea6b8f8d99979",
   "outputs": [],
   "execution_count": 28
  }
 ],
 "metadata": {
  "kernelspec": {
   "display_name": "Python 3",
   "language": "python",
   "name": "python3"
  },
  "language_info": {
   "codemirror_mode": {
    "name": "ipython",
    "version": 2
   },
   "file_extension": ".py",
   "mimetype": "text/x-python",
   "name": "python",
   "nbconvert_exporter": "python",
   "pygments_lexer": "ipython2",
   "version": "2.7.6"
  }
 },
 "nbformat": 4,
 "nbformat_minor": 5
}
