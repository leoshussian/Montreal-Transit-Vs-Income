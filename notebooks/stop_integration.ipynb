{
 "cells": [
  {
   "metadata": {},
   "cell_type": "markdown",
   "source": [
    "# Integration\n",
    "Where can I go from here? Can a passenger efficiently transfer from one line to another?\n",
    "\n",
    "Stops are considered integrated if they are in a walkable radius from other desirable stops.\n",
    "In the original study, every stop was scored based on its mean distance to all other stops. Here, only stops in a 400m radius are considered. Furthermore, the quality of each stop is considered -- how many lines are accessible from that 400m distance?"
   ],
   "id": "25229151466c39a3"
  },
  {
   "cell_type": "code",
   "id": "initial_id",
   "metadata": {
    "collapsed": true,
    "ExecuteTime": {
     "end_time": "2025-02-07T15:26:59.347025Z",
     "start_time": "2025-02-07T15:26:30.382687Z"
    }
   },
   "source": [
    "%load_ext autoreload\n",
    "%autoreload 2\n",
    "\n",
    "from scripts.preprocessing import stop_data, gtfs\n",
    "import pandas as pd\n",
    "import geopandas as gpd\n",
    "from scipy.spatial import distance_matrix, distance\n",
    "from Transit_Quality_Study.transit_quality_study.config import EPSG, processed_data_dir"
   ],
   "outputs": [
    {
     "name": "stdout",
     "output_type": "stream",
     "text": [
      "The autoreload extension is already loaded. To reload it, use:\n",
      "  %reload_ext autoreload\n",
      "Initializing GTFS feed...\n",
      "Processing GTFS files...\n",
      "Parquet files found. Loading parquet files.\n",
      "Reading census files...\n",
      "Success.\n",
      "Census files merged.\n"
     ]
    }
   ],
   "execution_count": 2
  },
  {
   "metadata": {
    "ExecuteTime": {
     "end_time": "2025-02-07T15:26:59.555521Z",
     "start_time": "2025-02-07T15:26:59.364440Z"
    }
   },
   "cell_type": "code",
   "source": [
    "# Gather relevant information\n",
    "stop_integration = stop_data[['route_id', 'geometry']] # We don't use lon and lat on purpose\n",
    "stop_integration"
   ],
   "id": "41eedb30be497d8b",
   "outputs": [
    {
     "data": {
      "text/plain": [
       "                            route_id                    geometry\n",
       "stop_code                                                       \n",
       "10118                            [1]  POINT (-73.60312 45.44647)\n",
       "10120                            [1]  POINT (-73.59324 45.45116)\n",
       "10122                            [1]  POINT (-73.58169 45.45701)\n",
       "10124                            [1]  POINT (-73.57202 45.45944)\n",
       "10126                            [1]  POINT (-73.56707 45.46189)\n",
       "...                              ...                         ...\n",
       "62373           [380, 171, 164, 135]  POINT (-73.67293 45.54732)\n",
       "62374      [380, 171, 164, 135, 180]  POINT (-73.67909 45.53755)\n",
       "62375                           [69]  POINT (-73.67161 45.55063)\n",
       "62376                          [100]  POINT (-73.69387 45.47644)\n",
       "62383                          [216]  POINT (-73.81066 45.47204)\n",
       "\n",
       "[8791 rows x 2 columns]"
      ],
      "text/html": [
       "<div>\n",
       "<style scoped>\n",
       "    .dataframe tbody tr th:only-of-type {\n",
       "        vertical-align: middle;\n",
       "    }\n",
       "\n",
       "    .dataframe tbody tr th {\n",
       "        vertical-align: top;\n",
       "    }\n",
       "\n",
       "    .dataframe thead th {\n",
       "        text-align: right;\n",
       "    }\n",
       "</style>\n",
       "<table border=\"1\" class=\"dataframe\">\n",
       "  <thead>\n",
       "    <tr style=\"text-align: right;\">\n",
       "      <th></th>\n",
       "      <th>route_id</th>\n",
       "      <th>geometry</th>\n",
       "    </tr>\n",
       "    <tr>\n",
       "      <th>stop_code</th>\n",
       "      <th></th>\n",
       "      <th></th>\n",
       "    </tr>\n",
       "  </thead>\n",
       "  <tbody>\n",
       "    <tr>\n",
       "      <th>10118</th>\n",
       "      <td>[1]</td>\n",
       "      <td>POINT (-73.60312 45.44647)</td>\n",
       "    </tr>\n",
       "    <tr>\n",
       "      <th>10120</th>\n",
       "      <td>[1]</td>\n",
       "      <td>POINT (-73.59324 45.45116)</td>\n",
       "    </tr>\n",
       "    <tr>\n",
       "      <th>10122</th>\n",
       "      <td>[1]</td>\n",
       "      <td>POINT (-73.58169 45.45701)</td>\n",
       "    </tr>\n",
       "    <tr>\n",
       "      <th>10124</th>\n",
       "      <td>[1]</td>\n",
       "      <td>POINT (-73.57202 45.45944)</td>\n",
       "    </tr>\n",
       "    <tr>\n",
       "      <th>10126</th>\n",
       "      <td>[1]</td>\n",
       "      <td>POINT (-73.56707 45.46189)</td>\n",
       "    </tr>\n",
       "    <tr>\n",
       "      <th>...</th>\n",
       "      <td>...</td>\n",
       "      <td>...</td>\n",
       "    </tr>\n",
       "    <tr>\n",
       "      <th>62373</th>\n",
       "      <td>[380, 171, 164, 135]</td>\n",
       "      <td>POINT (-73.67293 45.54732)</td>\n",
       "    </tr>\n",
       "    <tr>\n",
       "      <th>62374</th>\n",
       "      <td>[380, 171, 164, 135, 180]</td>\n",
       "      <td>POINT (-73.67909 45.53755)</td>\n",
       "    </tr>\n",
       "    <tr>\n",
       "      <th>62375</th>\n",
       "      <td>[69]</td>\n",
       "      <td>POINT (-73.67161 45.55063)</td>\n",
       "    </tr>\n",
       "    <tr>\n",
       "      <th>62376</th>\n",
       "      <td>[100]</td>\n",
       "      <td>POINT (-73.69387 45.47644)</td>\n",
       "    </tr>\n",
       "    <tr>\n",
       "      <th>62383</th>\n",
       "      <td>[216]</td>\n",
       "      <td>POINT (-73.81066 45.47204)</td>\n",
       "    </tr>\n",
       "  </tbody>\n",
       "</table>\n",
       "<p>8791 rows × 2 columns</p>\n",
       "</div>"
      ]
     },
     "execution_count": 3,
     "metadata": {},
     "output_type": "execute_result"
    }
   ],
   "execution_count": 3
  },
  {
   "metadata": {},
   "cell_type": "markdown",
   "source": "First, we have to project longitudes and latitudes to flat x and y coordinates. Thankfully, this is integrated into geopandas. The EPSG we use is 2950, used for mapping surveys in Quebec and Ontario.",
   "id": "62ab1cbac19ff283"
  },
  {
   "metadata": {
    "ExecuteTime": {
     "end_time": "2025-02-07T15:26:59.966662Z",
     "start_time": "2025-02-07T15:26:59.667721Z"
    }
   },
   "cell_type": "code",
   "source": "stop_integration = stop_integration.geometry.to_crs(epsg=EPSG)",
   "id": "df4b2be0140e231a",
   "outputs": [],
   "execution_count": 4
  },
  {
   "metadata": {},
   "cell_type": "markdown",
   "source": [
    "The last iteration of this study used two nested loops to compare the distance from every stop to every other stop on the network. With 9000 stops in this dataframe, we had 81,000,000 operations!\n",
    "Thankfully, I have decided to use matrices this time around."
   ],
   "id": "276ca676745e4bda"
  },
  {
   "metadata": {
    "ExecuteTime": {
     "end_time": "2025-02-07T15:27:05.364751Z",
     "start_time": "2025-02-07T15:27:00.045005Z"
    }
   },
   "cell_type": "code",
   "source": [
    "# First, we have to turn the points to coordinates:\n",
    "coords = stop_integration.get_coordinates()\n",
    "\n",
    "# Then we can create the distance matrix\n",
    "dist_matrix = distance_matrix(coords, coords)\n",
    "dist_matrix"
   ],
   "id": "b2dd013b11da4ee",
   "outputs": [
    {
     "data": {
      "text/plain": [
       "array([[    0.        ,   932.01509465,  2044.95154727, ...,\n",
       "        12753.40122359,  7839.79604963, 16478.13967749],\n",
       "       [  932.01509465,     0.        ,  1113.16960098, ...,\n",
       "        12637.4274882 ,  8355.5630757 , 17160.48038891],\n",
       "       [ 2044.95154727,  1113.16960098,     0.        , ...,\n",
       "        12554.51147519,  9033.77920419, 17982.96592508],\n",
       "       ...,\n",
       "       [12753.40122359, 12637.4274882 , 12554.51147519, ...,\n",
       "            0.        ,  8426.85758038, 13939.70965239],\n",
       "       [ 7839.79604963,  8355.5630757 ,  9033.77920419, ...,\n",
       "         8426.85758038,     0.        ,  9144.24369784],\n",
       "       [16478.13967749, 17160.48038891, 17982.96592508, ...,\n",
       "        13939.70965239,  9144.24369784,     0.        ]],\n",
       "      shape=(8791, 8791))"
      ]
     },
     "execution_count": 5,
     "metadata": {},
     "output_type": "execute_result"
    }
   ],
   "execution_count": 5
  },
  {
   "metadata": {},
   "cell_type": "markdown",
   "source": [
    "For the record the original code took five minutes to run.\n",
    "\n",
    "Next, we only keep distances equal or less than 400m -- the standard distance considered walkable.\n",
    "We don't need the distances, simply the stops."
   ],
   "id": "f602b61178e1d64"
  },
  {
   "metadata": {
    "ExecuteTime": {
     "end_time": "2025-02-07T15:27:05.576121Z",
     "start_time": "2025-02-07T15:27:05.394022Z"
    }
   },
   "cell_type": "code",
   "source": [
    "walkable_dist = 400\n",
    "walkable_stops = dist_matrix <= walkable_dist\n",
    "walkable_stops"
   ],
   "id": "cebf871bdbf50536",
   "outputs": [
    {
     "data": {
      "text/plain": [
       "array([[ True, False, False, ..., False, False, False],\n",
       "       [False,  True, False, ..., False, False, False],\n",
       "       [False, False,  True, ..., False, False, False],\n",
       "       ...,\n",
       "       [False, False, False, ...,  True, False, False],\n",
       "       [False, False, False, ..., False,  True, False],\n",
       "       [False, False, False, ..., False, False,  True]],\n",
       "      shape=(8791, 8791))"
      ]
     },
     "execution_count": 6,
     "metadata": {},
     "output_type": "execute_result"
    }
   ],
   "execution_count": 6
  },
  {
   "metadata": {},
   "cell_type": "markdown",
   "source": "We also want a binary matrix between routes and stops:",
   "id": "1c91dd6cb2bb335d"
  },
  {
   "metadata": {
    "ExecuteTime": {
     "end_time": "2025-02-07T15:27:06.343487Z",
     "start_time": "2025-02-07T15:27:05.720776Z"
    }
   },
   "cell_type": "code",
   "source": [
    "# Get exploded list of route_id served at each stop\n",
    "stop_routes = stop_data.explode('route_id')['route_id']\n",
    "# Finally, we make a pivot table, and convert it to a binary matrix:\n",
    "route_matrix = (pd.crosstab(stop_routes.index, stop_routes, dropna=False) > 0).to_numpy()\n",
    "route_matrix"
   ],
   "id": "41bd80f7412bb1fb",
   "outputs": [
    {
     "data": {
      "text/plain": [
       "array([[ True, False, False, ..., False, False, False],\n",
       "       [ True, False, False, ..., False, False, False],\n",
       "       [ True, False, False, ..., False, False, False],\n",
       "       ...,\n",
       "       [False, False, False, ..., False, False, False],\n",
       "       [False, False,  True, ..., False, False, False],\n",
       "       [False, False, False, ..., False, False, False]], shape=(8791, 213))"
      ]
     },
     "execution_count": 7,
     "metadata": {},
     "output_type": "execute_result"
    }
   ],
   "execution_count": 7
  },
  {
   "metadata": {},
   "cell_type": "markdown",
   "source": "Now, by multiplying the two matrices together, we can get the number of routes for each stop in a walkable distance!!!",
   "id": "48ebb7a661909baa"
  },
  {
   "metadata": {
    "ExecuteTime": {
     "end_time": "2025-02-07T15:27:43.710523Z",
     "start_time": "2025-02-07T15:27:10.499773Z"
    }
   },
   "cell_type": "code",
   "source": [
    "stop_walkable_routes = (walkable_stops @ route_matrix) > 0\n",
    "stop_walkable_routes = pd.DataFrame(stop_walkable_routes.sum(axis=1), index = stop_integration.index)\n",
    "stop_walkable_routes.columns = ['walkable_routes']\n",
    "stop_walkable_routes"
   ],
   "id": "a7cb8181d8ccf39b",
   "outputs": [
    {
     "data": {
      "text/plain": [
       "           walkable_routes\n",
       "stop_code                 \n",
       "10118                   12\n",
       "10120                    4\n",
       "10122                    4\n",
       "10124                    6\n",
       "10126                    8\n",
       "...                    ...\n",
       "62373                    7\n",
       "62374                    7\n",
       "62375                    7\n",
       "62376                    1\n",
       "62383                    1\n",
       "\n",
       "[8791 rows x 1 columns]"
      ],
      "text/html": [
       "<div>\n",
       "<style scoped>\n",
       "    .dataframe tbody tr th:only-of-type {\n",
       "        vertical-align: middle;\n",
       "    }\n",
       "\n",
       "    .dataframe tbody tr th {\n",
       "        vertical-align: top;\n",
       "    }\n",
       "\n",
       "    .dataframe thead th {\n",
       "        text-align: right;\n",
       "    }\n",
       "</style>\n",
       "<table border=\"1\" class=\"dataframe\">\n",
       "  <thead>\n",
       "    <tr style=\"text-align: right;\">\n",
       "      <th></th>\n",
       "      <th>walkable_routes</th>\n",
       "    </tr>\n",
       "    <tr>\n",
       "      <th>stop_code</th>\n",
       "      <th></th>\n",
       "    </tr>\n",
       "  </thead>\n",
       "  <tbody>\n",
       "    <tr>\n",
       "      <th>10118</th>\n",
       "      <td>12</td>\n",
       "    </tr>\n",
       "    <tr>\n",
       "      <th>10120</th>\n",
       "      <td>4</td>\n",
       "    </tr>\n",
       "    <tr>\n",
       "      <th>10122</th>\n",
       "      <td>4</td>\n",
       "    </tr>\n",
       "    <tr>\n",
       "      <th>10124</th>\n",
       "      <td>6</td>\n",
       "    </tr>\n",
       "    <tr>\n",
       "      <th>10126</th>\n",
       "      <td>8</td>\n",
       "    </tr>\n",
       "    <tr>\n",
       "      <th>...</th>\n",
       "      <td>...</td>\n",
       "    </tr>\n",
       "    <tr>\n",
       "      <th>62373</th>\n",
       "      <td>7</td>\n",
       "    </tr>\n",
       "    <tr>\n",
       "      <th>62374</th>\n",
       "      <td>7</td>\n",
       "    </tr>\n",
       "    <tr>\n",
       "      <th>62375</th>\n",
       "      <td>7</td>\n",
       "    </tr>\n",
       "    <tr>\n",
       "      <th>62376</th>\n",
       "      <td>1</td>\n",
       "    </tr>\n",
       "    <tr>\n",
       "      <th>62383</th>\n",
       "      <td>1</td>\n",
       "    </tr>\n",
       "  </tbody>\n",
       "</table>\n",
       "<p>8791 rows × 1 columns</p>\n",
       "</div>"
      ]
     },
     "execution_count": 8,
     "metadata": {},
     "output_type": "execute_result"
    }
   ],
   "execution_count": 8
  },
  {
   "metadata": {
    "ExecuteTime": {
     "end_time": "2025-02-07T15:27:44.556345Z",
     "start_time": "2025-02-07T15:27:43.729570Z"
    }
   },
   "cell_type": "code",
   "source": [
    "# Shipping it off\n",
    "stop_walkable_routes.to_parquet(processed_data_dir / 'stop_walkable_routes.parquet')"
   ],
   "id": "171c1ff9318b22f",
   "outputs": [],
   "execution_count": 9
  },
  {
   "metadata": {},
   "cell_type": "markdown",
   "source": [
    "Note on integration:\n",
    "\n",
    "It cannot be understated that this can be taken even further:\n",
    "$$\n",
    "T = R^T \\times W \\times R\n",
    "$$\n",
    "\n",
    "Where $R$ is the route matrix and $W$ is the walkable stop matrix,\n",
    "\n",
    "$T$ represents the integration of the *whole route*, such the sum can tell us the number of possible transfers on a line.\n",
    "\n",
    "\n",
    "Unfortunately, it is beyond the scope of this project... for now."
   ],
   "id": "32f25510611a6a48"
  }
 ],
 "metadata": {
  "kernelspec": {
   "display_name": "Python 3",
   "language": "python",
   "name": "python3"
  },
  "language_info": {
   "codemirror_mode": {
    "name": "ipython",
    "version": 2
   },
   "file_extension": ".py",
   "mimetype": "text/x-python",
   "name": "python",
   "nbconvert_exporter": "python",
   "pygments_lexer": "ipython2",
   "version": "2.7.6"
  }
 },
 "nbformat": 4,
 "nbformat_minor": 5
}
