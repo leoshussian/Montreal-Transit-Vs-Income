{
 "cells": [
  {
   "metadata": {},
   "cell_type": "markdown",
   "source": [
    "# Attractiveness\n",
    "The efficiency of the route – does this route directly transport to places people want to go?\n",
    "\n",
    "Stops are considered attractive if they allow users to travel to population centres. This means that while a stop may be perhaps mid-nowhere, it will still get a high score if a line served transports to a population centre."
   ],
   "id": "d409b18000c6caf9"
  },
  {
   "cell_type": "code",
   "id": "initial_id",
   "metadata": {
    "collapsed": true,
    "ExecuteTime": {
     "end_time": "2025-02-06T08:04:37.882648Z",
     "start_time": "2025-02-06T08:04:25.558533Z"
    }
   },
   "source": [
    "%load_ext autoreload\n",
    "%autoreload 2\n",
    "\n",
    "from scripts.preprocessing import stop_data\n",
    "from Transit_Quality_Study.transit_quality_study import config"
   ],
   "outputs": [
    {
     "name": "stdout",
     "output_type": "stream",
     "text": [
      "Initializing GTFS feed...\n",
      "Processing GTFS files...\n",
      "Parquet files found. Loading parquet files.\n",
      "Reading census files...\n",
      "Success.\n",
      "Census files merged.\n"
     ]
    }
   ],
   "execution_count": 1
  },
  {
   "metadata": {},
   "cell_type": "markdown",
   "source": "# Map highest stop density to entire route",
   "id": "581141110b86ef7a"
  },
  {
   "metadata": {
    "ExecuteTime": {
     "end_time": "2025-02-06T08:04:47.221054Z",
     "start_time": "2025-02-06T08:04:47.150165Z"
    }
   },
   "cell_type": "code",
   "source": [
    "# Let's get the info that matters\n",
    "route_max_density = stop_data[['route_id', 'Density']]\n",
    "# Split stops with multiple lines to multiple rows\n",
    "route_max_density = route_max_density.explode('route_id')\n",
    "# Group the lines, keep the highest stop density\n",
    "route_max_density = route_max_density.groupby('route_id').max('Density')\n",
    "route_max_density = route_max_density.rename(columns = {'Density':'Max_Density'})\n",
    "\n",
    "route_max_density.head()"
   ],
   "id": "54994c804fbecbf0",
   "outputs": [
    {
     "data": {
      "text/plain": [
       "          Max_Density\n",
       "route_id             \n",
       "1             18209.0\n",
       "10            20000.0\n",
       "100           32455.5\n",
       "101           31205.2\n",
       "102           20782.8"
      ],
      "text/html": [
       "<div>\n",
       "<style scoped>\n",
       "    .dataframe tbody tr th:only-of-type {\n",
       "        vertical-align: middle;\n",
       "    }\n",
       "\n",
       "    .dataframe tbody tr th {\n",
       "        vertical-align: top;\n",
       "    }\n",
       "\n",
       "    .dataframe thead th {\n",
       "        text-align: right;\n",
       "    }\n",
       "</style>\n",
       "<table border=\"1\" class=\"dataframe\">\n",
       "  <thead>\n",
       "    <tr style=\"text-align: right;\">\n",
       "      <th></th>\n",
       "      <th>Max_Density</th>\n",
       "    </tr>\n",
       "    <tr>\n",
       "      <th>route_id</th>\n",
       "      <th></th>\n",
       "    </tr>\n",
       "  </thead>\n",
       "  <tbody>\n",
       "    <tr>\n",
       "      <th>1</th>\n",
       "      <td>18209.0</td>\n",
       "    </tr>\n",
       "    <tr>\n",
       "      <th>10</th>\n",
       "      <td>20000.0</td>\n",
       "    </tr>\n",
       "    <tr>\n",
       "      <th>100</th>\n",
       "      <td>32455.5</td>\n",
       "    </tr>\n",
       "    <tr>\n",
       "      <th>101</th>\n",
       "      <td>31205.2</td>\n",
       "    </tr>\n",
       "    <tr>\n",
       "      <th>102</th>\n",
       "      <td>20782.8</td>\n",
       "    </tr>\n",
       "  </tbody>\n",
       "</table>\n",
       "</div>"
      ]
     },
     "execution_count": 2,
     "metadata": {},
     "output_type": "execute_result"
    }
   ],
   "execution_count": 2
  },
  {
   "metadata": {},
   "cell_type": "markdown",
   "source": "# Inherit route density in stop",
   "id": "69a038b7be83d8ca"
  },
  {
   "metadata": {
    "ExecuteTime": {
     "end_time": "2025-02-06T08:04:50.664673Z",
     "start_time": "2025-02-06T08:04:50.601707Z"
    }
   },
   "cell_type": "code",
   "source": [
    "stop_max_density = stop_data[['route_id']]\n",
    "stop_max_density['stop_code'] = stop_max_density.index\n",
    "stop_max_density = (stop_max_density\n",
    "                    .explode('route_id')\n",
    "                    .merge(route_max_density, on='route_id', how='left')\n",
    "# If a stop has multiple routes, it inherits the maximum density\n",
    "                    .groupby('stop_code').max('Max_Density'))\n",
    "stop_max_density.head()"
   ],
   "id": "4d8dc109f0205d2c",
   "outputs": [
    {
     "data": {
      "text/plain": [
       "           Max_Density\n",
       "stop_code             \n",
       "10118          18209.0\n",
       "10120          18209.0\n",
       "10122          18209.0\n",
       "10124          18209.0\n",
       "10126          18209.0"
      ],
      "text/html": [
       "<div>\n",
       "<style scoped>\n",
       "    .dataframe tbody tr th:only-of-type {\n",
       "        vertical-align: middle;\n",
       "    }\n",
       "\n",
       "    .dataframe tbody tr th {\n",
       "        vertical-align: top;\n",
       "    }\n",
       "\n",
       "    .dataframe thead th {\n",
       "        text-align: right;\n",
       "    }\n",
       "</style>\n",
       "<table border=\"1\" class=\"dataframe\">\n",
       "  <thead>\n",
       "    <tr style=\"text-align: right;\">\n",
       "      <th></th>\n",
       "      <th>Max_Density</th>\n",
       "    </tr>\n",
       "    <tr>\n",
       "      <th>stop_code</th>\n",
       "      <th></th>\n",
       "    </tr>\n",
       "  </thead>\n",
       "  <tbody>\n",
       "    <tr>\n",
       "      <th>10118</th>\n",
       "      <td>18209.0</td>\n",
       "    </tr>\n",
       "    <tr>\n",
       "      <th>10120</th>\n",
       "      <td>18209.0</td>\n",
       "    </tr>\n",
       "    <tr>\n",
       "      <th>10122</th>\n",
       "      <td>18209.0</td>\n",
       "    </tr>\n",
       "    <tr>\n",
       "      <th>10124</th>\n",
       "      <td>18209.0</td>\n",
       "    </tr>\n",
       "    <tr>\n",
       "      <th>10126</th>\n",
       "      <td>18209.0</td>\n",
       "    </tr>\n",
       "  </tbody>\n",
       "</table>\n",
       "</div>"
      ]
     },
     "execution_count": 3,
     "metadata": {},
     "output_type": "execute_result"
    }
   ],
   "execution_count": 3
  },
  {
   "metadata": {
    "ExecuteTime": {
     "end_time": "2025-02-06T08:03:14.542255600Z",
     "start_time": "2025-02-06T05:25:12.531222Z"
    }
   },
   "cell_type": "code",
   "source": "stop_max_density.to_parquet(config.processed_data_dir / 'stop_max_density.parquet')",
   "id": "4ab21f6cdcb4b9b5",
   "outputs": [],
   "execution_count": 4
  }
 ],
 "metadata": {
  "kernelspec": {
   "display_name": "Python 3",
   "language": "python",
   "name": "python3"
  },
  "language_info": {
   "codemirror_mode": {
    "name": "ipython",
    "version": 2
   },
   "file_extension": ".py",
   "mimetype": "text/x-python",
   "name": "python",
   "nbconvert_exporter": "python",
   "pygments_lexer": "ipython2",
   "version": "2.7.6"
  }
 },
 "nbformat": 4,
 "nbformat_minor": 5
}
